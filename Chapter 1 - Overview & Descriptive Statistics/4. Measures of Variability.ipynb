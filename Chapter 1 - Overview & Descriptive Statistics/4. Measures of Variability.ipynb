{
 "cells": [
  {
   "metadata": {},
   "cell_type": "markdown",
   "source": "Measures Of Variability",
   "id": "87cbd46e7413ec51"
  },
  {
   "cell_type": "code",
   "id": "initial_id",
   "metadata": {
    "collapsed": true,
    "ExecuteTime": {
     "end_time": "2025-01-30T07:15:54.193219Z",
     "start_time": "2025-01-30T07:15:54.187173Z"
    }
   },
   "source": [
    "import matplotlib.pyplot as plt\n",
    "import pandas as pd\n",
    "import numpy as np"
   ],
   "outputs": [],
   "execution_count": 2
  },
  {
   "metadata": {
    "ExecuteTime": {
     "end_time": "2025-01-30T14:55:32.734891Z",
     "start_time": "2025-01-30T14:55:32.728806Z"
    }
   },
   "cell_type": "code",
   "source": [
    "def _52_():\n",
    "    healthy = [\n",
    "        99, 160, 165, 170, 178, 181, 190, 201, 250, 313\n",
    "    ]\n",
    "    \n",
    "    CKD = [\n",
    "        183, 190, 250, 275, 290, 315, 320, 330, 410, 500, 821\n",
    "    ]\n",
    "    \n",
    "    def _range_(data):\n",
    "        return f'({data.min()} - {data.max()})'\n",
    "    \n",
    "    def _variance_(data):\n",
    "        return f'({np.var(data)})'\n",
    "    \n",
    "    def _standard_deviation_(data):\n",
    "        return f'({np.std(data)})'\n",
    "    \n",
    "    def _quantile_(data):\n",
    "        q1 = data.quantile(0.25)\n",
    "        q2 = data.quantile(0.5)\n",
    "        q3 = data.quantile(0.75)\n",
    "        \n",
    "        return f'({q1}, {q2}, {q3})'\n",
    "    \n",
    "    def _iqr_(data):\n",
    "        return data.quantile(0.75) - data.quantile(0.25)"
   ],
   "id": "dbaeaa0bff250677",
   "outputs": [],
   "execution_count": 6
  },
  {
   "metadata": {
    "ExecuteTime": {
     "end_time": "2025-01-30T14:55:33.253886Z",
     "start_time": "2025-01-30T14:55:33.251518Z"
    }
   },
   "cell_type": "code",
   "source": [
    "def _53_():\n",
    "    oxygen_consumption = [29.5, 49.3, 30.6, 28.2, 28.0, 26.3, 33.9, 29.4, 23.5, 31.6]\n",
    "    \n",
    "    def _iqr_(data):\n",
    "        return np.quantile(data, q=0.75) - np.quantile(data, q=0.75)\n",
    "    \n",
    "    def _variance_(data):\n",
    "        return f'({np.var(data)})'\n",
    "    \n",
    "    def _standard_deviation_(data):\n",
    "        return f'({np.std(data)})'"
   ],
   "id": "c1ca7318fd90d705",
   "outputs": [],
   "execution_count": 7
  },
  {
   "metadata": {
    "ExecuteTime": {
     "end_time": "2025-01-30T14:55:33.978742Z",
     "start_time": "2025-01-30T14:55:33.974317Z"
    }
   },
   "cell_type": "code",
   "source": [
    "def _54_():\n",
    "    modules = [116.4, 115.9, 114.6, 115.2, 115.8]\n",
    "    \n",
    "    def _mean_(data):\n",
    "        return f'({np.mean(data)})'\n",
    "    \n",
    "    def _variance_snd_std_(data):\n",
    "        return f'(variance: {np.var(data)}\\n standard deviation: {np.std(data)})'"
   ],
   "id": "7b764cd65b201ce5",
   "outputs": [],
   "execution_count": 8
  },
  {
   "metadata": {
    "ExecuteTime": {
     "end_time": "2025-01-30T14:55:34.520804Z",
     "start_time": "2025-01-30T14:55:34.517653Z"
    }
   },
   "cell_type": "code",
   "source": [
    "def _55_():\n",
    "    values = [2781, 2900, 3013, 2856, 2888]\n",
    "    \n",
    "    def _mean_median_(data):\n",
    "        return f'(median: {np.median(data)}\\n mean: {np.mean(data)})'\n",
    "    def _variance_(data):\n",
    "        return f'({np.var(data)})'"
   ],
   "id": "727091ebeb3e39da",
   "outputs": [],
   "execution_count": 9
  },
  {
   "metadata": {
    "ExecuteTime": {
     "end_time": "2025-01-30T14:57:10.257629Z",
     "start_time": "2025-01-30T14:57:10.251832Z"
    }
   },
   "cell_type": "code",
   "source": [
    "def _56_():\n",
    "    a = [87, 93, 96, 98, 105, 114, 128, 131, 142, 168]\n",
    "    \n",
    "    def _mean_(data):\n",
    "        return f'({np.mean(data)})'\n",
    "    \n",
    "    def _variance_(data):\n",
    "        return f'({np.var(data)})'\n",
    "    \n",
    "    def _standard_deviation_(data):\n",
    "        return f'({np.std(data)})'"
   ],
   "id": "ca5c7b8201d3e0e2",
   "outputs": [],
   "execution_count": 10
  },
  {
   "metadata": {
    "ExecuteTime": {
     "end_time": "2025-01-30T15:00:13.098457Z",
     "start_time": "2025-01-30T15:00:13.093160Z"
    }
   },
   "cell_type": "code",
   "source": [
    "def _58_():\n",
    "    number_of_purchases = [497, 193, 328, 155, 326, 245, 270]\n",
    "    \n",
    "    def _sum_(data):\n",
    "        return f'({np.sum(data)})'\n",
    "    \n",
    "    def _sum_of_squares(data):\n",
    "        a = 0\n",
    "        for i in data:\n",
    "            a = a + i * i\n",
    "        \n",
    "        return f'({a})'\n",
    "    \n",
    "    def _variance_(data):\n",
    "        return f'{np.var(data)}'\n",
    "    \n",
    "    def _standard_deviation_(data):\n",
    "        return f'({np.std(data)})'"
   ],
   "id": "7cea927574a52d27",
   "outputs": [],
   "execution_count": 11
  },
  {
   "metadata": {
    "ExecuteTime": {
     "end_time": "2025-01-30T15:04:44.983754Z",
     "start_time": "2025-01-30T15:04:44.976502Z"
    }
   },
   "cell_type": "code",
   "source": [
    "def _60_():\n",
    "    numbers =[\n",
    "        233.13, 235.00, 235.01, 235.18, 235.49, 235.66, 236.96, 239.50\n",
    "    ]\n",
    "    \n",
    "    def _variance_snd_std_(data):\n",
    "        return f'(variance: {np.var(data)}\\n standard deviation: {np.std(data)})'"
   ],
   "id": "bafaff9dfc613d95",
   "outputs": [],
   "execution_count": 12
  },
  {
   "metadata": {
    "ExecuteTime": {
     "end_time": "2025-01-30T15:20:45.236450Z",
     "start_time": "2025-01-30T15:20:45.220717Z"
    }
   },
   "cell_type": "code",
   "source": [
    "def _62_():\n",
    "    sales = [\n",
    "        525, 830, 600, 180, 129,\n",
    "        525, 350, 490, 640, 475\n",
    "    ]\n",
    "    def _quantiles_(data):\n",
    "        upper_quantile, lower_quantile, iqr = data.quantile(0.75), data.quantile(0.25), data.quantile(0.75)-data.quantile(0.25)\n",
    "        return f'(upper quantile:{upper_quantile}, lower quantile:{lower_quantile}, iqr:{iqr})'\n",
    "    \n",
    "    def _effect_to_iqr_(data):\n",
    "        old_iqr = data.quantile(0.75) - data.quantile(0.25)\n",
    "        for i in data:\n",
    "            if i == 830:\n",
    "                data[i] = 830\n",
    "            if i == 640:\n",
    "                data[i] = 640\n",
    "        \n",
    "        new_iqr = data.quantile(0.75) - data.quantile(0.25)\n",
    "        \n",
    "        return f'Old IQR:{old_iqr}  New IQR:{new_iqr}'    "
   ],
   "id": "2209d3c33525d011",
   "outputs": [],
   "execution_count": 13
  },
  {
   "metadata": {
    "ExecuteTime": {
     "end_time": "2025-01-30T15:27:16.293013Z",
     "start_time": "2025-01-30T15:27:16.280751Z"
    }
   },
   "cell_type": "code",
   "source": [
    "def _63_():\n",
    "    information = [\n",
    "        37, 60, 75, 115, 135, 140, 149, 150, 238,\n",
    "        290, 340, 410, 600, 750, 750, 750, 1050, 1100,\n",
    "        1139, 1150, 1200, 1200, 1250, 1576, 1700, 1825, 2000\n",
    "    ]\n",
    "    \n",
    "    def _iqr_and_quantile_(data):\n",
    "        quantiles = data.quantile(0.75) - data.quantile(0.25)\n",
    "        quantile_1 = data.quantile(0.25)\n",
    "        quantile_2 = data.quantile(0.50)\n",
    "        quantile_3 = data.quantile(0.75)\n",
    "        \n",
    "        return f\"\"\"\n",
    "1st Quantile: {quantile_1}\n",
    "2nd Quantile: {quantile_2}\n",
    "3rd Quantile: {quantile_3}\n",
    "IQR: {quantiles}\n",
    "\"\"\"\n",
    "    def _box_plot_(data):\n",
    "        import matplotlib.pyplot as plt\n",
    "        # Create a box plot\n",
    "        plt.figure(figsize=(8, 6))\n",
    "        plt.boxplot(data, vert=False, patch_artist=True)\n",
    "        plt.title(\"Box Plot of Given Information\")\n",
    "        plt.xlabel(\"Values\")\n",
    "        plt.grid(True)\n",
    "        plt.show()"
   ],
   "id": "f8a3a9310ded8539",
   "outputs": [],
   "execution_count": 16
  },
  {
   "metadata": {
    "ExecuteTime": {
     "end_time": "2025-01-30T15:46:40.631851Z",
     "start_time": "2025-01-30T15:46:40.624732Z"
    }
   },
   "cell_type": "code",
   "source": [
    "def _65_():\n",
    "    numbers = [\n",
    "        9, 16, 16, 17, 19, 20, 20, 20,\n",
    "        23, 23, 23, 23, 24, 24, 24, 24,\n",
    "        25, 25, 26, 26, 27, 27, 28, 28,\n",
    "        29, 29, 29, 30, 32, 33, 33, 34,\n",
    "        37, 43, 44, 46, 48, 53\n",
    "    ]\n",
    "    \n",
    "    def _all_measures_(data):\n",
    "        quantiles = data.quantile(0.75) - data.quantile(0.25)\n",
    "        \n",
    "        quantile_1 = data.quantile(0.25)\n",
    "        \n",
    "        quantile_2 = data.quantile(0.50)\n",
    "        \n",
    "        quantile_3 = data.quantile(0.75)\n",
    "        \n",
    "        mean = np.mean(data)\n",
    "        \n",
    "        variance = np.var(data)\n",
    "        \n",
    "        standard_deviation = np.std(data)\n",
    "        \n",
    "    def _outliers_(data):     \n",
    "        outliers = []\n",
    "    \n",
    "        # Convert to pandas Series if it's not already\n",
    "        data = pd.Series(data)\n",
    "    \n",
    "        # Compute Q1, Q3, and IQR\n",
    "        quantile_1 = data.quantile(0.25)\n",
    "        quantile_3 = data.quantile(0.75)\n",
    "        IQR = quantile_3 - quantile_1\n",
    "    \n",
    "        # Correct outlier boundaries\n",
    "        lower_bound = quantile_1 - 1.5 * IQR\n",
    "        upper_bound = quantile_3 + 1.5 * IQR\n",
    "    \n",
    "        # Find outliers\n",
    "        for i in data:\n",
    "            if i < lower_bound or i > upper_bound:\n",
    "                outliers.append(i)\n",
    "    \n",
    "        # Sort and return\n",
    "        outliers.sort()\n",
    "        return outliers\n",
    "    \n",
    "    def _box_plot_(data):\n",
    "        import matplotlib.pyplot as plt\n",
    "        plt.figure(figsize=(8, 6))\n",
    "        plt.boxplot(data, vert=False, patch_artist=True)\n",
    "        plt.title(\"Box Plot of Given Information\")\n",
    "        plt.xlabel(\"Values\")\n",
    "        plt.grid(True)\n",
    "        plt.show()\n",
    "        plt.close()"
   ],
   "id": "71f69f094bc425d3",
   "outputs": [],
   "execution_count": 20
  },
  {
   "metadata": {
    "ExecuteTime": {
     "end_time": "2025-01-30T16:31:49.394670Z",
     "start_time": "2025-01-30T16:31:49.388305Z"
    }
   },
   "cell_type": "code",
   "source": [
    "def _68_():\n",
    "    ED = [\n",
    "        0, 0, 0, 0, 0.1, 0.1,\n",
    "        0.1, 0.1, 0.2, 0.2, 0.3, 0.3,\n",
    "        0.3, 0.4, 0.5, 0.7, 0.8, 1.0,\n",
    "        1.5, 2.7, 2.8, 3.5, 4.0, 8.9,\n",
    "        9.2, 11.7, 21.0\n",
    "    ]\n",
    "    NONED = [\n",
    "        0, 0, 0, 0, 0, 0.1,\n",
    "        0.1, 0.1, 0.1, 0.2, 0.2, 0.2,\n",
    "        0.3, 0.3, 0.3, 0.4, 0.5, 0.5,\n",
    "        0.6, 0.8, 0.9, 1.0, 1.2, 1.4,\n",
    "        1.5, 1.7, 2.0, 3.2, 3.5, 4.1,\n",
    "        4.3, 4.8, 5.0, 5.6, 5.9, 6.0,\n",
    "        6.4, 7.9, 8.3, 8.7, 9.1, 9.6,\n",
    "        9.9, 11.0, 11.5, 12.2, 12.7, 14.0,\n",
    "        16.6, 17.8\n",
    "    ]\n",
    "    \n",
    "    def _all_measures_(data):\n",
    "        quantiles = data.quantile(0.75) - data.quantile(0.25)\n",
    "        \n",
    "        quantile_1 = data.quantile(0.25)\n",
    "        \n",
    "        quantile_2 = data.quantile(0.50)\n",
    "        \n",
    "        quantile_3 = data.quantile(0.75)\n",
    "        \n",
    "        mean = np.mean(data)\n",
    "        \n",
    "        variance = np.var(data)\n",
    "        \n",
    "        standard_deviation = np.std(data)\n",
    "        \n",
    "    def _outliers_(data):     \n",
    "        outliers = []\n",
    "    \n",
    "        # Convert to pandas Series if it's not already\n",
    "        data = pd.Series(data)\n",
    "    \n",
    "        # Compute Q1, Q3, and IQR\n",
    "        quantile_1 = data.quantile(0.25)\n",
    "        quantile_3 = data.quantile(0.75)\n",
    "        IQR = quantile_3 - quantile_1\n",
    "    \n",
    "        # Correct outlier boundaries\n",
    "        lower_bound = quantile_1 - 1.5 * IQR\n",
    "        upper_bound = quantile_3 + 1.5 * IQR\n",
    "    \n",
    "        # Find outliers\n",
    "        for i in data:\n",
    "            if i < lower_bound or i > upper_bound:\n",
    "                outliers.append(i)\n",
    "    \n",
    "        # Sort and return\n",
    "        outliers.sort()\n",
    "        return outliers\n",
    "    \n",
    "    \n",
    "    \n",
    "    def _box_plot_(data,data2):\n",
    "        import matplotlib.pyplot as plt\n",
    "        plt.figure(figsize=(8, 6))\n",
    "        plt.boxplot(data, vert=False, patch_artist=True)\n",
    "        plt.boxplot(data2, vert=False, patch_artist=True)\n",
    "        plt.title(\"Box Plot of Given Information\")\n",
    "        plt.xlabel(\"Values\")\n",
    "        plt.grid(True)\n",
    "        plt.show()\n",
    "        plt.close()    "
   ],
   "id": "9e1f8fcf7aeb3c9",
   "outputs": [],
   "execution_count": 22
  },
  {
   "metadata": {
    "ExecuteTime": {
     "end_time": "2025-01-30T16:37:09.679036Z",
     "start_time": "2025-01-30T16:37:09.671174Z"
    }
   },
   "cell_type": "code",
   "source": [
    "def _69_():\n",
    "    yankees = [\n",
    "        12000, 600, 491, 22709, 21600,\n",
    "        13000, 13000, 15000, 23429\n",
    "    ]\n",
    "    indians = [\n",
    "        3200, 3750, 396, 383, 1000,\n",
    "        3750, 917, 3000, 4050\n",
    "    ]\n",
    "    def _box_plot_(data,data2):\n",
    "        import matplotlib.pyplot as plt\n",
    "        yankees = [\n",
    "            12000, 600, 491, 22709, 21600,\n",
    "            13000, 13000, 15000, 23429\n",
    "        ]\n",
    "        indians = [\n",
    "            3200, 3750, 396, 383, 1000,\n",
    "            3750, 917, 3000, 4050\n",
    "        ]\n",
    "        plt.figure(figsize=(8, 6))\n",
    "        plt.boxplot([yankees, indians], vert=False, patch_artist=True, labels=[\"Yankees\", \"Indians\"])\n",
    "        plt.title(\"Box Plot Comparison of Yankees vs. Indians\")\n",
    "        plt.xlabel(\"Values\")\n",
    "        plt.grid(True)\n",
    "        plt.show() "
   ],
   "id": "d4c6fb535cf7aa06",
   "outputs": [],
   "execution_count": 26
  }
 ],
 "metadata": {
  "kernelspec": {
   "display_name": "Python 3",
   "language": "python",
   "name": "python3"
  },
  "language_info": {
   "codemirror_mode": {
    "name": "ipython",
    "version": 2
   },
   "file_extension": ".py",
   "mimetype": "text/x-python",
   "name": "python",
   "nbconvert_exporter": "python",
   "pygments_lexer": "ipython2",
   "version": "2.7.6"
  }
 },
 "nbformat": 4,
 "nbformat_minor": 5
}

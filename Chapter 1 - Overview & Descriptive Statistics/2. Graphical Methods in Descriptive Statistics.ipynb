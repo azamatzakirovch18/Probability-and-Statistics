{
 "cells": [
  {
   "metadata": {},
   "cell_type": "markdown",
   "source": "This is helper functions package",
   "id": "b026d09c5965f3d2"
  },
  {
   "metadata": {
    "ExecuteTime": {
     "end_time": "2025-01-19T08:09:39.630644Z",
     "start_time": "2025-01-19T08:09:39.621656Z"
    }
   },
   "cell_type": "code",
   "source": [
    "import matplotlib.pyplot as plt\n",
    "import pandas as pd\n",
    "import numpy as np"
   ],
   "id": "703d650209a66858",
   "outputs": [],
   "execution_count": 94
  },
  {
   "metadata": {
    "ExecuteTime": {
     "end_time": "2025-01-19T08:09:39.894336Z",
     "start_time": "2025-01-19T08:09:39.891335Z"
    }
   },
   "cell_type": "code",
   "source": [
    "def printer(a):\n",
    "    text = ''\n",
    "    for i in a:\n",
    "        text += str(i) + \" \"\n",
    "    return text"
   ],
   "id": "5bd1b384408fb229",
   "outputs": [],
   "execution_count": 95
  },
  {
   "metadata": {},
   "cell_type": "markdown",
   "source": [
    "# You are welcome. This is questions & Answers packege\n",
    "## You can see solved questions in python"
   ],
   "id": "9d7c2692892368de"
  },
  {
   "metadata": {},
   "cell_type": "markdown",
   "source": [
    "### Question 15:\n",
    "Construct a stem-and-leaf display for the\n",
    "given batch of exam scores, repeating each\n",
    "stem twice (so, 6L through 9H). What\n",
    "feature of the data is highlighted by this\n",
    "display?\n"
   ],
   "id": "57073862aa1586a5"
  },
  {
   "metadata": {
    "ExecuteTime": {
     "end_time": "2025-01-19T08:09:40.942118Z",
     "start_time": "2025-01-19T08:09:40.937924Z"
    }
   },
   "cell_type": "code",
   "source": [
    "def _15():\n",
    "    data = [\n",
    "        74, 89, 80, 93, 64, 67, 72, 70, 66, 85,\n",
    "        89, 81, 81, 71, 74, 82, 85, 63, 72, 81,\n",
    "        81, 95, 84, 81, 80, 70, 69, 66, 60, 83,\n",
    "        85, 98, 84, 68, 90, 82, 69, 72, 87, 88\n",
    "    ]\n",
    "    data.sort()  #List is sorted\n",
    "    # Steam and Leaf\n",
    "    leaf_and_tree = {}\n",
    "    l = len(data)\n",
    "    for i in range(l):\n",
    "        data[i] = [int(data[i] / 10), int(data[i] % 10)]\n",
    "    for i in range(l):\n",
    "        stem = data[i][0]\n",
    "        leaf = data[i][1]\n",
    "        if stem not in leaf_and_tree:\n",
    "            leaf_and_tree[stem] = []\n",
    "        leaf_and_tree[stem].append(leaf)\n",
    "    print(\"Stem|Leaf\")\n",
    "    for i in leaf_and_tree:\n",
    "        print(\" \", i, \" |\", printer(leaf_and_tree[i]))\n"
   ],
   "id": "initial_id",
   "outputs": [],
   "execution_count": 96
  },
  {
   "metadata": {},
   "cell_type": "markdown",
   "source": [
    "### Question 16:\n",
    "A sample of 77 individuals working at a\n",
    "particular of ce was selected and the noise\n",
    "level (dBA) experienced by each one was\n",
    "determined, yielding the following data\n",
    "(“Acceptable Noise Levels for Construction\n",
    "Site Of ces,” Build. Serv. Engr. Res.\n",
    "Technol. 2009: 87–94).\n"
   ],
   "id": "49b14df87a65b9a7"
  },
  {
   "metadata": {
    "ExecuteTime": {
     "end_time": "2025-01-19T08:09:41.606328Z",
     "start_time": "2025-01-19T08:09:41.600876Z"
    }
   },
   "cell_type": "code",
   "source": [
    "def _16():\n",
    "    data = [\n",
    "        55.3, 55.3, 55.3, 55.9, 55.9, 55.9, 55.9, 56.1, 56.1, 56.1, 56.1,\n",
    "        56.1, 56.1, 56.8, 56.8, 57.0, 57.0, 57.0, 57.8, 57.8, 57.8, 57.9,\n",
    "        57.9, 57.9, 58.8, 58.8, 58.8, 59.8, 59.8, 59.8, 62.2, 62.2, 63.8,\n",
    "        63.8, 63.8, 63.9, 63.9, 63.9, 64.7, 64.7, 64.7, 65.1, 65.1, 65.1,\n",
    "        65.3, 65.3, 65.3, 65.3, 67.4, 67.4, 67.4, 67.4, 68.7, 68.7, 68.7,\n",
    "        68.7, 69.0, 70.4, 70.4, 71.2, 71.2, 71.2, 73.0, 73.0, 73.1, 73.1,\n",
    "        74.6, 74.6, 74.6, 74.6, 79.3, 79.3, 79.3, 79.3, 83.0, 83.0, 83.0\n",
    "    ]\n",
    "    data.sort()\n",
    "\n",
    "    leaf_and_tree = {}\n",
    "    l = len(data)\n",
    "    for i in range(l):\n",
    "        data[i] = [(int(data[i] * 10) // 10), int((data[i] * 10) % 10)]\n",
    "    for i in range(l):\n",
    "        stem = data[i][0]\n",
    "        leaf = data[i][1]\n",
    "        if stem not in leaf_and_tree:\n",
    "            leaf_and_tree[stem] = []\n",
    "        leaf_and_tree[stem].append(leaf)\n",
    "    print(\"Stem|Leaf\")\n",
    "    for i in leaf_and_tree:\n",
    "        print(i, \" |\", printer(leaf_and_tree[i]))"
   ],
   "id": "accae65c0edb3b5f",
   "outputs": [],
   "execution_count": 97
  },
  {
   "metadata": {},
   "cell_type": "markdown",
   "source": "",
   "id": "bbf33b4e2298156b"
  },
  {
   "metadata": {},
   "cell_type": "markdown",
   "source": [
    "### Question 17:\n",
    "The following data on crack depth (µm) was\n",
    "read from a graph in the article“Effects of\n",
    "Electropolishing on Corrosion and Stress\n",
    "Corrosion Cracking of Alloy 182 in High\n",
    "Temperature Water” (Corrosion Sci. 2017: 1–10)\n",
    "\n",
    "_____________________________________________________\n",
    "\n",
    "a. Construct a stem-and-leaf display of the\n",
    "data.\n",
    "\n",
    "b. What is a typical, or representative, crack\n",
    "depth?\n",
    "\n",
    "c. Does the display appear to be highly\n",
    "concentrated or spread out?\n",
    "\n",
    "d. Does the distribution of values appear to\n",
    "be reasonably symmetric? If not, how\n",
    "would you describe the departure from\n",
    "symmetry?\n",
    "\n",
    "e. Would you describe any observations as\n",
    "being far from the rest of the data (outliers)?\n"
   ],
   "id": "e00ac8b352677996"
  },
  {
   "metadata": {
    "ExecuteTime": {
     "end_time": "2025-01-19T08:09:42.318493Z",
     "start_time": "2025-01-19T08:09:42.314733Z"
    }
   },
   "cell_type": "code",
   "source": [
    "def _17():\n",
    "    data = [\n",
    "        1.5, 2.9, 3.1, 3.3, 3.4, 3.6, 3.7, 3.8, 3.9, 4.1,\n",
    "        4.3, 4.5, 4.6, 4.7, 4.8, 5.2, 5.3, 5.5, 5.6, 5.9,\n",
    "        6.1, 6.9, 7.2, 7.5, 8.0, 8.0, 8.1, 8.2, 8.5, 9.2,\n",
    "        9.5, 9.9, 10.0, 10.5, 10.5, 10.7, 10.9, 10.9, 11.2, 11.3,\n",
    "        11.3, 11.8, 12.0, 12.7, 14.4, 15.7, 17.3, 18.4, 19.9, 20.0,\n",
    "        21.7, 21.8, 22.4, 26.4, 33.7, 33.8, 34.0, 37.8, 42.2, 46.0,\n",
    "        48.6, 50.2, 51.4, 52.4, 66.5, 76.1, 81.1,\n",
    "    ]\n",
    "    \n",
    "    data.sort()\n",
    "\n",
    "    leaf_and_tree = {}\n",
    "    l = len(data)\n",
    "    for i in range(l):\n",
    "        data[i] = [(int(data[i] * 10) // 10), int((data[i] * 10) % 10)]\n",
    "    for i in range(l):\n",
    "        stem = data[i][0]\n",
    "        leaf = data[i][1]\n",
    "        if stem not in leaf_and_tree:\n",
    "            leaf_and_tree[stem] = []\n",
    "        leaf_and_tree[stem].append(leaf)\n",
    "    print(\"Stem|Leaf\")\n",
    "    for i in leaf_and_tree:\n",
    "        if i >= 10:\n",
    "            print(i, \" |\", printer(leaf_and_tree[i]))\n",
    "        else:\n",
    "            print(\"\",i, \" |\", printer(leaf_and_tree[i]))\n",
    "    "
   ],
   "id": "fa13ed7ba1fd9b62",
   "outputs": [],
   "execution_count": 98
  },
  {
   "metadata": {},
   "cell_type": "markdown",
   "source": "",
   "id": "6a5a9bc6d4f92f7d"
  },
  {
   "metadata": {},
   "cell_type": "markdown",
   "source": [
    "### Question 18:\n",
    "The 15th Annual Demographia International Housing\n",
    "Affordability Survey: 2019\n",
    "reports the“median multiple,” the ratio of\n",
    "median home price to median household\n",
    "income, for 188 metropolitan areas in the\n",
    "United States. (A higher median multiple\n",
    "means that it’s harder for residents of that\n",
    "area to purchase a home.) The resulting\n",
    "data appears below.\n",
    "\n",
    "_____________________________________________________\n",
    "\n",
    "a. Construct a stem-and-leaf display of the\n",
    "data.\n",
    "\n",
    "b. What is a typical, or representative,\n",
    "median multiple?\n",
    "\n",
    "c. Describe the shape of the distribution.\n",
    "\n",
    "d. Values above 5.0 earn the city a\n",
    "“Severely Unaffordable” rating. What\n",
    "proportion of cities in the study have\n",
    "severely unaffordable housing?"
   ],
   "id": "f6f7b5d85695a71c"
  },
  {
   "metadata": {
    "ExecuteTime": {
     "end_time": "2025-01-19T08:09:43.108233Z",
     "start_time": "2025-01-19T08:09:43.104434Z"
    }
   },
   "cell_type": "code",
   "source": [
    "def _18():\n",
    "    data = [\n",
    "        2.6, 3.0, 4.1, 3.1, 3.0, 3.8, 3.9, 4.8, 3.5, 2.8,\n",
    "        2.9, 4.1, 4.3, 3.6, 3.4, 3.1, 3.5, 5.1, 5.3, 6.7,\n",
    "        4.5, 4.9, 3.0, 2.8, 2.6, 4.3, 2.5, 4.5, 3.8, 3.4,\n",
    "        3.6, 2.8, 2.9, 2.8, 4.5, 4.5, 3.2, 3.2, 3.1, 3.7,\n",
    "        3.9, 2.3, 2.7, 4.3, 5.5, 2.8, 3.0, 2.8, 4.3, 3.5,\n",
    "        2.4, 5.6, 2.8, 3.2, 3.0, 2.7, 5.2, 2.9, 4.4, 2.6,\n",
    "        4.9, 4.4, 3.1, 4.7, 2.8, 3.2, 4.1, 3.1, 3.1, 2.5,\n",
    "        3.3, 2.8, 8.6, 3.7, 2.9, 3.0, 2.9, 3.1, 3.9, 2.8,\n",
    "        3.3, 4.0, 2.9, 3.2, 3.4, 3.4, 3.8, 3.2, 2.4, 3.4,\n",
    "        4.9, 3.0, 3.0, 2.8, 9.2, 3.1, 2.8, 3.2, 3.7, 3.4,\n",
    "        3.0, 4.0, 3.4, 6.0, 5.7, 3.8, 3.4, 3.0, 5.0, 2.8,\n",
    "        4.2, 5.3, 3.9, 3.4, 3.1, 4.0, 5.5, 3.4, 3.7, 2.7,\n",
    "        3.9, 2.7, 4.5, 7.1, 3.6, 2.3, 3.4, 4.3, 2.6, 4.4,\n",
    "        3.9, 5.2, 4.3, 4.3, 3.8, 2.7, 5.8, 3.7, 5.6, 3.2,\n",
    "        2.6, 2.2, 5.6, 5.0, 7.5, 3.9, 4.4, 3.9, 7.8, 8.8,\n",
    "        9.4, 8.1, 7.5, 9.6, 7.5, 4.6, 3.2, 2.5, 5.6, 4.1,\n",
    "        3.1, 2.6, 3.2, 4.3, 3.8, 3.0, 2.8, 5.9, 2.3, 3.7,\n",
    "        4.1, 2.5, 3.2, 4.0, 3.1, 2.2, 5.4, 3.5, 4.6, 3.3,\n",
    "        4.0, 2.8, 5.0, 3.3, 3.8, 4.3, 2.8, 2.2,\n",
    "    ]\n",
    "    data.sort()\n",
    "\n",
    "    leaf_and_tree = {}\n",
    "    l = len(data)\n",
    "    for i in range(l):\n",
    "        data[i] = [(int(data[i] * 10) // 10), int((data[i] * 10) % 10)]\n",
    "    for i in range(l):\n",
    "        stem = data[i][0]\n",
    "        leaf = data[i][1]\n",
    "        if stem not in leaf_and_tree:\n",
    "            leaf_and_tree[stem] = []\n",
    "        leaf_and_tree[stem].append(leaf)\n",
    "    print(\"Stem|Leaf\")\n",
    "    for i in leaf_and_tree:\n",
    "        if i >= 10:\n",
    "            print(i, \" |\", printer(leaf_and_tree[i]))\n",
    "        else:\n",
    "            print(\"\",i, \" |\", printer(leaf_and_tree[i]))"
   ],
   "id": "47ac6ed35de376a3",
   "outputs": [],
   "execution_count": 99
  },
  {
   "metadata": {},
   "cell_type": "markdown",
   "source": [
    "### Question 19:\n",
    "\n",
    "Do running times of American movies\n",
    "differ somehow from times of French\n",
    "movies? The authors investigated this\n",
    "question by randomly selecting 25 recent\n",
    "movies of each type between American and French people \n",
    "Construct a comparative stem-and-leaf\n",
    "display by listing stems in the middle of\n",
    "your paper and then placing the American\n",
    "leaves out to the left and the French leaves\n",
    "out to the right. Then comment on interesting \n",
    "features of the display.\n"
   ],
   "id": "34ebfa558cbe213e"
  },
  {
   "metadata": {
    "ExecuteTime": {
     "end_time": "2025-01-19T08:09:43.273162Z",
     "start_time": "2025-01-19T08:09:43.269329Z"
    }
   },
   "cell_type": "code",
   "source": [
    "def _19():\n",
    "    americans = [\n",
    "        94, 90, 95, 93, 128, 95, 125,\n",
    "        91, 104, 116, 162, 102, 90, 110,\n",
    "        92, 113, 116, 90, 97, 103, 95,\n",
    "        120, 109, 91, 138\n",
    "    ]\n",
    "    \n",
    "    french = [\n",
    "        123, 116, 90, 158, 122, 119, 125,\n",
    "        90, 96, 94, 137, 102, 105, 106,\n",
    "        95, 125, 122, 103, 96, 111, 81,\n",
    "        113, 128, 93, 92\n",
    "    ]\n",
    "    \n",
    "    americans.sort()\n",
    "    french.sort()\n",
    "    \n",
    "    tree_for_americans = {}\n",
    "    tree_for_french = {}\n",
    "    length_of_americans = len(americans)\n",
    "    length_of_french = len(french)\n",
    "    \n",
    "    for i in range(length_of_americans):\n",
    "        steam = int(americans[i]) // 10\n",
    "        leaf = int(americans[i] % 10)\n",
    "        if steam not in tree_for_americans:\n",
    "            tree_for_americans[steam] = []\n",
    "        tree_for_americans[steam].append(leaf)\n",
    "        \n",
    "    for i in range(length_of_french):\n",
    "        steam = int(french[i]) // 10\n",
    "        leaf = int(french[i] % 10)\n",
    "        if steam not in tree_for_french:\n",
    "            tree_for_french[steam] = []\n",
    "        tree_for_french[steam].append(leaf)\n",
    "    print(\"AMERICANS\") \n",
    "    print(\"Stem|Leaf\")\n",
    "    for i in tree_for_americans:\n",
    "        if i < 10:\n",
    "            print(i, \"  |\", printer(tree_for_americans[i]))\n",
    "        else:\n",
    "            print(i, \" |\", printer(tree_for_americans[i]))\n",
    "    print(\"\\nFRENCH\")\n",
    "    print(\"Stem|Leaf\")\n",
    "    for i in tree_for_french:\n",
    "        if i < 10:\n",
    "            print(i, \"  |\", printer(tree_for_french[i]))\n",
    "        else:\n",
    "            print(i, \" |\", printer(tree_for_french[i]))"
   ],
   "id": "4ac9a2ff9bc8352f",
   "outputs": [],
   "execution_count": 100
  },
  {
   "metadata": {},
   "cell_type": "markdown",
   "source": [
    "### Question 20:\n",
    "The report“Congestion Reduction Strategies” \n",
    "(Texas Transportation Institute, 2005)\n",
    "investigated how much additional time (in\n",
    "hours, per year per traveler) drivers spend\n",
    "in traf c during peak hours for a sample of\n",
    "urban areas. Data on“large” (e.g., Denver)\n",
    "and“very large” (e.g., Houston) urban\n",
    "areas. \n",
    "Construct a comparative stem-and-leaf\n",
    "display (see Exercise 19) of this data.\n",
    "Compare and contrast the extra time spent\n",
    "in traf c for drivers in large urban areas\n",
    "and very large urban areas."
   ],
   "id": "4426962e18f04fbf"
  },
  {
   "metadata": {
    "ExecuteTime": {
     "end_time": "2025-01-19T08:09:43.525321Z",
     "start_time": "2025-01-19T08:09:43.521635Z"
    }
   },
   "cell_type": "code",
   "source": [
    "def _20():\n",
    "    large = [\n",
    "        55, 55, 53, 52, 51, 50, 46,\n",
    "        46, 43, 40, 39, 38, 35, 33,\n",
    "        33, 30, 30, 29, 26, 23, 18,\n",
    "        17, 14, 13, 12, 10,\n",
    "    ]\n",
    "\n",
    "    very_large = [\n",
    "        93, 72, 69, 67, 63, 60, 58,\n",
    "        57, 51, 51, 49, 49, 38,\n",
    "    ]\n",
    "    large.sort()\n",
    "    very_large.sort()\n",
    "    \n",
    "    tree_for_large = {}\n",
    "    tree_for_very_large = {}\n",
    "    length_of_large = len(large)\n",
    "    length_of_very_large = len(very_large)\n",
    "    \n",
    "    for i in range(length_of_large):\n",
    "        steam = int(large[i]) // 10\n",
    "        leaf = int(large[i] % 10)\n",
    "        if steam not in tree_for_large:\n",
    "            tree_for_large[steam] = []\n",
    "        tree_for_large[steam].append(leaf)\n",
    "        \n",
    "    for i in range(length_of_very_large):\n",
    "        steam = int(very_large[i]) // 10\n",
    "        leaf = int(very_large[i] % 10)\n",
    "        if steam not in tree_for_very_large:\n",
    "            tree_for_very_large[steam] = []\n",
    "        tree_for_very_large[steam].append(leaf)\n",
    "    print(\"LARGE\") \n",
    "    print(\"Stem|Leaf\")\n",
    "    for i in tree_for_large:\n",
    "        if i < 10:\n",
    "            print(i, \"  |\", printer(tree_for_large[i]))\n",
    "        else:\n",
    "            print(i, \" |\", printer(tree_for_large[i]))\n",
    "    print(\"\\nVERY LARGE\")\n",
    "    print(\"Stem|Leaf\")\n",
    "    for i in tree_for_very_large:\n",
    "        if i < 10:\n",
    "            print(i, \"  |\", printer(tree_for_very_large[i]))\n",
    "        else:\n",
    "            print(i, \" |\", printer(tree_for_very_large[i]))"
   ],
   "id": "b6d76ee8868cea83",
   "outputs": [],
   "execution_count": 102
  },
  {
   "metadata": {},
   "cell_type": "markdown",
   "source": [
    "### Question 21\n",
    "\n",
    "Temperature transducers of a certain type\n",
    "are shipped in batches of fty. A sample of\n",
    "60 batches was selected, and the number of\n",
    "transducers in each batch not conforming to\n",
    "design specifications was determined.\n",
    "\n",
    "a. Determine frequencies and relative frequencies for the observed values of\n",
    "x = number of nonconforming transducers in a batch.\n",
    "\n",
    "b. What proportion of batches in the sample have at most ve nonconforming\n",
    "transducers? What proportion have\n",
    "fewer than ve? What proportion have\n",
    "at least ve nonconforming units?\n",
    "\n",
    "c. Draw a histogram of the data using\n",
    "relative frequency on the vertical scale,\n",
    "and comment on its features."
   ],
   "id": "b65dddd6f9744d6a"
  },
  {
   "metadata": {
    "ExecuteTime": {
     "end_time": "2025-01-19T08:24:43.720796Z",
     "start_time": "2025-01-19T08:24:43.712024Z"
    }
   },
   "cell_type": "code",
   "source": [
    "import pandas as pd\n",
    "import matplotlib.pyplot as plt\n",
    "\n",
    "def _21():\n",
    "    data = [\n",
    "        2, 1, 2, 4, 0, 1, 3, 2, 0, 5, 3, 3, 1, 3, 2, 4, 7, 0, 2, 3,\n",
    "        0, 4, 2, 1, 3, 1, 1, 3, 4, 1, 2, 3, 2, 2, 8, 4, 5, 1, 3, 1,\n",
    "        5, 0, 2, 3, 2, 1, 0, 6, 4, 2, 1, 6, 0, 3, 3, 3, 6, 1, 2, 3\n",
    "    ]\n",
    "\n",
    "    # Frequency counts\n",
    "    unique_values = sorted(set(data))\n",
    "    frequencies = [data.count(i) for i in unique_values]\n",
    "    total_frequency = sum(frequencies)\n",
    "\n",
    "    # Relative Frequency and Density\n",
    "    class_width = 1  # Assuming class width is 1 for this example\n",
    "    relative_frequency = [f / total_frequency for f in frequencies]\n",
    "    density = [f / class_width for f in relative_frequency]\n",
    "\n",
    "    # Create a DataFrame for the data table\n",
    "    data_table = pd.DataFrame({\n",
    "        \"Class (Range)\": unique_values,\n",
    "        \"Frequency\": frequencies,\n",
    "        \"Relative Frequency\": relative_frequency,\n",
    "        \"Class Width\": [class_width] * len(unique_values),\n",
    "        \"Density\": density\n",
    "    })\n",
    "    plt.figure(figsize=(10, 6))\n",
    "    plt.bar(unique_values, density, width=class_width, align='center', edgecolor='black', alpha=0.7)\n",
    "    plt.title('Density Histogram', fontsize=14)\n",
    "    plt.xlabel('Class', fontsize=12)\n",
    "    plt.ylabel('Density', fontsize=12)\n",
    "    plt.xticks(unique_values)\n",
    "    plt.grid(axis='y', linestyle='--', alpha=0.7)\n",
    "    plt.show()"
   ],
   "id": "f79be6670ead99e4",
   "outputs": [],
   "execution_count": 112
  },
  {
   "metadata": {},
   "cell_type": "markdown",
   "source": [
    "### Question 22\n",
    "\n",
    "Lotka’s law is used in library science to\n",
    "describe the productivity of authors in a given\n",
    "eld. The article“Lotka’s Law and Produc-\n",
    "tivity Patterns of Authors in Biomedical Sci-\n",
    "ence in Nigeria on HIV/AIDS: a Bibliometric\n",
    "Approach” (The Electronic Library 2016:\n",
    "789–807) provides the following frequency\n",
    "distribution for the number of articles written\n",
    "by various authors on HIV/AIDS over a ve-\n",
    "year period in Nigeria.\n",
    "\n",
    "a. Construct a histogram corresponding to\n",
    "this frequency distribution. What is the\n",
    "most interesting feature of the shape of\n",
    "the distribution?\n",
    "\n",
    "b. What proportion of these authors pub-\n",
    "lished at least ve papers? More than\n",
    "ve papers?\n",
    "\n",
    "c. Suppose the ten 10s and ve 11s had\n",
    "been lumped into a single category\n",
    "displayed as“10+.” Would you be able\n",
    "to draw a histogram? Explain.\n",
    "\n",
    "d. Suppose that instead of the values 10\n",
    "and 11 being listed separately, they had\n",
    "been combined into a 10–11 category\n",
    "with frequency 15. Would you be able\n",
    "to draw a histogram? Explain."
   ],
   "id": "5970010f762c6e25"
  },
  {
   "metadata": {
    "ExecuteTime": {
     "end_time": "2025-01-19T08:25:16.209533Z",
     "start_time": "2025-01-19T08:25:16.104659Z"
    }
   },
   "cell_type": "code",
   "source": [
    "# properties of histogram\n",
    "classes = [i for i in range(1, 12)]\n",
    "frequency = [650, 90, 73, 40, 35, 30, 23, 17, 15, 10, 5]\n",
    "total_frequency = sum(frequency)\n",
    "relative_frequency = [i/total_frequency for i in frequency]\n",
    "density = [i / 1 for i in relative_frequency]\n",
    "class_width = 1\n",
    "\n",
    "data_table = pd.DataFrame({\n",
    "        \"Class (Range)\": classes,\n",
    "        \"Frequency\": frequency,\n",
    "        \"Relative Frequency\": relative_frequency,\n",
    "        \"Class Width\": [class_width] * 11,\n",
    "        \"Density\": density\n",
    "    })\n",
    "plt.figure(figsize=(10, 6))\n",
    "plt.bar(classes, density, width=class_width, align='center', edgecolor='black', alpha=0.7)\n",
    "plt.title('Density Histogram', fontsize=14)\n",
    "plt.xlabel('Class', fontsize=12)\n",
    "plt.ylabel('Density', fontsize=12)\n",
    "plt.xticks(classes)\n",
    "plt.grid(axis='y', linestyle='--', alpha=0.7)\n",
    "plt.show()"
   ],
   "id": "9ddfd617a515ab3c",
   "outputs": [
    {
     "data": {
      "text/plain": [
       "<Figure size 1000x600 with 1 Axes>"
      ],
      "image/png": "[encoded data removed]"
     },
     "metadata": {},
     "output_type": "display_data"
    }
   ],
   "execution_count": 113
  },
  {
   "metadata": {},
   "cell_type": "code",
   "outputs": [],
   "execution_count": null,
   "source": "",
   "id": "476fd766bcd770f2"
  }
 ],
 "metadata": {
  "kernelspec": {
   "display_name": "Python 3",
   "language": "python",
   "name": "python3"
  },
  "language_info": {
   "codemirror_mode": {
    "name": "ipython",
    "version": 2
   },
   "file_extension": ".py",
   "mimetype": "text/x-python",
   "name": "python",
   "nbconvert_exporter": "python",
   "pygments_lexer": "ipython2",
   "version": "2.7.6"
  }
 },
 "nbformat": 4,
 "nbformat_minor": 5
}

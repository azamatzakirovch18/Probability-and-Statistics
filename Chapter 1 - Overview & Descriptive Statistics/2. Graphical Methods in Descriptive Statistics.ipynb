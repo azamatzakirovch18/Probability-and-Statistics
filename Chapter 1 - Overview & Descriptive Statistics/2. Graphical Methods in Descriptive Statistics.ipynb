{
 "cells": [
  {
   "metadata": {
    "ExecuteTime": {
     "end_time": "2025-01-19T06:13:08.638869Z",
     "start_time": "2025-01-19T06:13:08.634248Z"
    }
   },
   "cell_type": "code",
   "source": [
    "def printer(a):\n",
    "    text = ''\n",
    "    for i in a:\n",
    "        text += str(i) + \" \"\n",
    "    return text"
   ],
   "id": "5bd1b384408fb229",
   "outputs": [],
   "execution_count": 2
  },
  {
   "metadata": {
    "ExecuteTime": {
     "end_time": "2025-01-19T06:15:11.718306Z",
     "start_time": "2025-01-19T06:15:11.712634Z"
    }
   },
   "cell_type": "code",
   "source": [
    "def _15():\n",
    "    data = [\n",
    "        74, 89, 80, 93, 64, 67, 72, 70, 66, 85,\n",
    "        89, 81, 81, 71, 74, 82, 85, 63, 72, 81,\n",
    "        81, 95, 84, 81, 80, 70, 69, 66, 60, 83,\n",
    "        85, 98, 84, 68, 90, 82, 69, 72, 87, 88\n",
    "    ]\n",
    "    data.sort()  #List is sorted\n",
    "    # Steam and Leaf\n",
    "    leaf_and_tree = {}\n",
    "    l = len(data)\n",
    "    for i in range(l):\n",
    "        data[i] = [int(data[i] / 10), int(data[i] % 10)]\n",
    "    for i in range(l):\n",
    "        stem = data[i][0]\n",
    "        leaf = data[i][1]\n",
    "        if stem not in leaf_and_tree:\n",
    "            leaf_and_tree[stem] = []\n",
    "        leaf_and_tree[stem].append(leaf)\n",
    "    print(\"Stem|Leaf\")\n",
    "    for i in leaf_and_tree:\n",
    "        print(\" \", i, \" |\", printer(leaf_and_tree[i]))"
   ],
   "id": "initial_id",
   "outputs": [],
   "execution_count": 10
  },
  {
   "metadata": {
    "ExecuteTime": {
     "end_time": "2025-01-19T06:13:45.441256Z",
     "start_time": "2025-01-19T06:13:45.432558Z"
    }
   },
   "cell_type": "code",
   "source": [
    "def _16():\n",
    "    data = [\n",
    "        55.3, 55.3, 55.3, 55.9, 55.9, 55.9, 55.9, 56.1, 56.1, 56.1, 56.1,\n",
    "        56.1, 56.1, 56.8, 56.8, 57.0, 57.0, 57.0, 57.8, 57.8, 57.8, 57.9,\n",
    "        57.9, 57.9, 58.8, 58.8, 58.8, 59.8, 59.8, 59.8, 62.2, 62.2, 63.8,\n",
    "        63.8, 63.8, 63.9, 63.9, 63.9, 64.7, 64.7, 64.7, 65.1, 65.1, 65.1,\n",
    "        65.3, 65.3, 65.3, 65.3, 67.4, 67.4, 67.4, 67.4, 68.7, 68.7, 68.7,\n",
    "        68.7, 69.0, 70.4, 70.4, 71.2, 71.2, 71.2, 73.0, 73.0, 73.1, 73.1,\n",
    "        74.6, 74.6, 74.6, 74.6, 79.3, 79.3, 79.3, 79.3, 83.0, 83.0, 83.0\n",
    "    ]\n",
    "    data.sort()\n",
    "\n",
    "    leaf_and_tree = {}\n",
    "    l = len(data)\n",
    "    for i in range(l):\n",
    "        data[i] = [(int(data[i] * 10) // 10), int((data[i] * 10) % 10)]\n",
    "    for i in range(l):\n",
    "        stem = data[i][0]\n",
    "        leaf = data[i][1]\n",
    "        if stem not in leaf_and_tree:\n",
    "            leaf_and_tree[stem] = []\n",
    "        leaf_and_tree[stem].append(leaf)\n",
    "    print(\"Stem|Leaf\")\n",
    "    for i in leaf_and_tree:\n",
    "        print(i, \" |\", printer(leaf_and_tree[i]))"
   ],
   "id": "accae65c0edb3b5f",
   "outputs": [],
   "execution_count": 4
  },
  {
   "metadata": {
    "ExecuteTime": {
     "end_time": "2025-01-19T06:13:58.285488Z",
     "start_time": "2025-01-19T06:13:58.282066Z"
    }
   },
   "cell_type": "code",
   "source": [
    "def _17():\n",
    "    data = [\n",
    "        1.5, 2.9, 3.1, 3.3, 3.4, 3.6, 3.7, 3.8, 3.9, 4.1,\n",
    "        4.3, 4.5, 4.6, 4.7, 4.8, 5.2, 5.3, 5.5, 5.6, 5.9,\n",
    "        6.1, 6.9, 7.2, 7.5, 8.0, 8.0, 8.1, 8.2, 8.5, 9.2,\n",
    "        9.5, 9.9, 10.0, 10.5, 10.5, 10.7, 10.9, 10.9, 11.2, 11.3,\n",
    "        11.3, 11.8, 12.0, 12.7, 14.4, 15.7, 17.3, 18.4, 19.9, 20.0,\n",
    "        21.7, 21.8, 22.4, 26.4, 33.7, 33.8, 34.0, 37.8, 42.2, 46.0,\n",
    "        48.6, 50.2, 51.4, 52.4, 66.5, 76.1, 81.1,\n",
    "    ]\n",
    "    return 2"
   ],
   "id": "fa13ed7ba1fd9b62",
   "outputs": [],
   "execution_count": 5
  },
  {
   "metadata": {
    "ExecuteTime": {
     "end_time": "2025-01-19T06:14:11.366256Z",
     "start_time": "2025-01-19T06:14:11.361842Z"
    }
   },
   "cell_type": "code",
   "source": [
    "def _18():\n",
    "    data = [\n",
    "        2.6, 3.0, 4.1, 3.1, 3.0, 3.8, 3.9, 4.8, 3.5, 2.8,\n",
    "        2.9, 4.1, 4.3, 3.6, 3.4, 3.1, 3.5, 5.1, 5.3, 6.7,\n",
    "        4.5, 4.9, 3.0, 2.8, 2.6, 4.3, 2.5, 4.5, 3.8, 3.4,\n",
    "        3.6, 2.8, 2.9, 2.8, 4.5, 4.5, 3.2, 3.2, 3.1, 3.7,\n",
    "        3.9, 2.3, 2.7, 4.3, 5.5, 2.8, 3.0, 2.8, 4.3, 3.5,\n",
    "        2.4, 5.6, 2.8, 3.2, 3.0, 2.7, 5.2, 2.9, 4.4, 2.6,\n",
    "        4.9, 4.4, 3.1, 4.7, 2.8, 3.2, 4.1, 3.1, 3.1, 2.5,\n",
    "        3.3, 2.8, 8.6, 3.7, 2.9, 3.0, 2.9, 3.1, 3.9, 2.8,\n",
    "        3.3, 4.0, 2.9, 3.2, 3.4, 3.4, 3.8, 3.2, 2.4, 3.4,\n",
    "        4.9, 3.0, 3.0, 2.8, 9.2, 3.1, 2.8, 3.2, 3.7, 3.4,\n",
    "        3.0, 4.0, 3.4, 6.0, 5.7, 3.8, 3.4, 3.0, 5.0, 2.8,\n",
    "        4.2, 5.3, 3.9, 3.4, 3.1, 4.0, 5.5, 3.4, 3.7, 2.7,\n",
    "        3.9, 2.7, 4.5, 7.1, 3.6, 2.3, 3.4, 4.3, 2.6, 4.4,\n",
    "        3.9, 5.2, 4.3, 4.3, 3.8, 2.7, 5.8, 3.7, 5.6, 3.2,\n",
    "        2.6, 2.2, 5.6, 5.0, 7.5, 3.9, 4.4, 3.9, 7.8, 8.8,\n",
    "        9.4, 8.1, 7.5, 9.6, 7.5, 4.6, 3.2, 2.5, 5.6, 4.1,\n",
    "        3.1, 2.6, 3.2, 4.3, 3.8, 3.0, 2.8, 5.9, 2.3, 3.7,\n",
    "        4.1, 2.5, 3.2, 4.0, 3.1, 2.2, 5.4, 3.5, 4.6, 3.3,\n",
    "        4.0, 2.8, 5.0, 3.3, 3.8, 4.3, 2.8, 2.2,\n",
    "    ]\n",
    "    return 3"
   ],
   "id": "47ac6ed35de376a3",
   "outputs": [],
   "execution_count": 6
  },
  {
   "metadata": {
    "ExecuteTime": {
     "end_time": "2025-01-19T06:14:23.005382Z",
     "start_time": "2025-01-19T06:14:23.001707Z"
    }
   },
   "cell_type": "code",
   "source": [
    "def _19():\n",
    "    americans = [\n",
    "        94, 90, 95, 93, 128, 95, 125,\n",
    "        91, 104, 116, 162, 102, 90, 110,\n",
    "        92, 113, 116, 90, 97, 103, 95,\n",
    "        120, 109, 91, 138\n",
    "    ]\n",
    "    \n",
    "    french = [\n",
    "        123, 116, 90, 158, 122, 119, 125,\n",
    "        90, 96, 94, 137, 102, 105, 106,\n",
    "        95, 125, 122, 103, 96, 111, 81,\n",
    "        113, 128, 93, 92\n",
    "    ]\n",
    "    return 4"
   ],
   "id": "4ac9a2ff9bc8352f",
   "outputs": [],
   "execution_count": 7
  },
  {
   "metadata": {
    "ExecuteTime": {
     "end_time": "2025-01-19T06:14:50.583363Z",
     "start_time": "2025-01-19T06:14:50.580335Z"
    }
   },
   "cell_type": "code",
   "source": [
    "def _20():\n",
    "    large = [\n",
    "        55, 55, 53, 52, 51, 50, 46,\n",
    "        46, 43, 40, 39, 38, 35, 33,\n",
    "        33, 30, 30, 29, 26, 23, 18,\n",
    "        17, 14, 13, 12, 10,\n",
    "    ]\n",
    "\n",
    "    very_large = [\n",
    "        93, 72, 69, 67, 63, 60, 58,\n",
    "        57, 51, 51, 49, 49, 38,\n",
    "    ]\n",
    "    return 5"
   ],
   "id": "b6d76ee8868cea83",
   "outputs": [],
   "execution_count": 8
  },
  {
   "metadata": {
    "ExecuteTime": {
     "end_time": "2025-01-19T06:14:56.266935Z",
     "start_time": "2025-01-19T06:14:56.264100Z"
    }
   },
   "cell_type": "code",
   "source": [
    "def _21():\n",
    "    data = [\n",
    "        2, 1, 2, 4, 0, 1, 3, 2, 0, 5, 3, 3, 1, 3, 2, 4, 7, 0, 2, 3,\n",
    "        0, 4, 2, 1, 3, 1, 1, 3, 4, 1, 2, 3, 2, 2, 8, 4, 5, 1, 3, 1,\n",
    "        5, 0, 2, 3, 2, 1, 0, 6, 4, 2, 1, 6, 0, 3, 3, 3, 6, 1, 2, 3\n",
    "    ]\n",
    "    return 6"
   ],
   "id": "f79be6670ead99e4",
   "outputs": [],
   "execution_count": 9
  },
  {
   "metadata": {
    "ExecuteTime": {
     "end_time": "2025-01-19T06:15:31.349148Z",
     "start_time": "2025-01-19T06:15:31.347810Z"
    }
   },
   "cell_type": "code",
   "source": "",
   "id": "1265af355e4f490e",
   "outputs": [],
   "execution_count": 12
  },
  {
   "metadata": {},
   "cell_type": "code",
   "outputs": [],
   "execution_count": null,
   "source": "",
   "id": "ee1b49ad290a5c9c"
  }
 ],
 "metadata": {
  "kernelspec": {
   "display_name": "Python 3",
   "language": "python",
   "name": "python3"
  },
  "language_info": {
   "codemirror_mode": {
    "name": "ipython",
    "version": 2
   },
   "file_extension": ".py",
   "mimetype": "text/x-python",
   "name": "python",
   "nbconvert_exporter": "python",
   "pygments_lexer": "ipython2",
   "version": "2.7.6"
  }
 },
 "nbformat": 4,
 "nbformat_minor": 5
}

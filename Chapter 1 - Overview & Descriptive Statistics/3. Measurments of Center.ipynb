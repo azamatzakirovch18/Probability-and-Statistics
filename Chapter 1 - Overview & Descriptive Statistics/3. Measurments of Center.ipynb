{
 "cells": [
  {
   "metadata": {},
   "cell_type": "markdown",
   "source": "Measures of Center",
   "id": "3bad1aa52b6c7e"
  },
  {
   "cell_type": "code",
   "id": "initial_id",
   "metadata": {
    "collapsed": true
   },
   "source": [
    "import matplotlib.pyplot as plt\n",
    "import pandas as pd\n",
    "import numpy as np"
   ],
   "outputs": [],
   "execution_count": null
  },
  {
   "metadata": {},
   "cell_type": "code",
   "source": [
    "def _40():\n",
    "    sample_space = [525, 830, 600, 180, 129, 525, 350, 490, 640, 470]\n",
    "    \n",
    "    length = len(sample_space)\n",
    "    \n",
    "    def mean_(prices):\n",
    "        return sum(prices) / len(prices)\n",
    "    \n",
    "    def median_(prices):\n",
    "        sorted_prices = sorted(prices)\n",
    "        length = len(sorted_prices)\n",
    "        if length % 2 == 1:\n",
    "            return sorted_prices[length // 2]\n",
    "        else:\n",
    "            return (sorted_prices[length // 2 - 1] + sorted_prices[length // 2]) / 2\n",
    "    \n",
    "    twenty_percent_trimmed_array = [600, 180, 129, 525, 350, 490]"
   ],
   "id": "a56bc71766da1c0",
   "outputs": [],
   "execution_count": null
  },
  {
   "metadata": {},
   "cell_type": "code",
   "source": [
    "def _41():\n",
    "    sample_space = [5, 2, 1, 2, 3, -1, 16, 2, 5, 0]\n",
    "\n",
    "    def mean_41(data):\n",
    "        return sum(data) / len(data)\n",
    "    \n",
    "    def median_41(data):\n",
    "        if len(data) % 2 == 1:\n",
    "            return data[int(len(data) / 2)]\n",
    "        return (data[int(len(data) / 2)] + data[int(len(data) / 2)-1]) / 2.0"
   ],
   "id": "4497f7bde16da9a2",
   "outputs": [],
   "execution_count": null
  },
  {
   "metadata": {},
   "cell_type": "code",
   "source": [
    "def _42():\n",
    "    sample_space = [15.0, 13.0, 18.0, 14.5, 12.0, 11.0, 8.9, 8.0]\n",
    "    mean_is = np.mean(sample_space)\n",
    "    median_is = np.median(sample_space)\n",
    "    \n",
    "    trimmed_percentage = 0.15\n",
    "    trimmer = int(trimmed_percentage * len(sample_space))\n",
    "    trimmed_array = sample_space[trimmer : len(sample_space) -  trimmer]\n",
    "    \n"
   ],
   "id": "b75ef0321680f62",
   "outputs": [],
   "execution_count": null
  },
  {
   "metadata": {},
   "cell_type": "code",
   "source": [
    "def _43():\n",
    "    sample_space = [\n",
    "    2237601, 512118, 507395, 424721, 410587,\n",
    "    384962, 356768, 299538, 291991, 285129,\n",
    "    276445, 246963, 245042, 243376, 242567,\n",
    "    232546, 232372, 227245, 215476, 196286\n",
    "    ]\n",
    "    mean = np.mean(sample_space)\n",
    "    median = np.median(sample_space)"
   ],
   "id": "56a08a2b404c986c",
   "outputs": [],
   "execution_count": null
  },
  {
   "metadata": {},
   "cell_type": "code",
   "source": [
    "def _44():\n",
    "    sample_space = [\n",
    "    16.35, 17.73, 19.62, 19.07, 19.48, 19.45, 19.33,\n",
    "    18.85, 22.75, 19.20, 19.90, 20.00, 19.37, 21.22,\n",
    "    16.20, 23.78, 20.05, 18.68, 19.97, 19.20, 19.50,\n",
    "    17.75, 23.25, 17.85, 18.82, 17.48, 18.00, 15.30,\n",
    "    19.58, 19.08, 19.17, 19.03, 17.15, 19.60, 22.25\n",
    "    ]\n",
    "\n",
    "    sample_space.sort()\n",
    "    \n",
    "    def _mean_for_44(container):\n",
    "        return sum(container) / len(container)\n",
    "    \n",
    "    def median_for_44(container):\n",
    "        if len(container) % 2 == 1:\n",
    "            return container[int(len(container) / 2)]\n",
    "        return (container[int(len(container) / 2)-1] + container[int(len(container) / 2)]) / 2"
   ],
   "id": "920cdb14d2c592cf",
   "outputs": [],
   "execution_count": null
  },
  {
   "metadata": {},
   "cell_type": "code",
   "source": [
    "def _46():\n",
    "    sample_space = [\n",
    "    389, 356, 359, 363, 375, 424, 325, 394, 402,\n",
    "    373, 373, 370, 364, 366, 364, 325, 339, 393,\n",
    "    392, 369, 374, 359, 356, 403, 334, 397\n",
    "    ]\n",
    "\n",
    "    def _printer_for_stem_and_lead_46_function(dictionary):\n",
    "        for key in dictionary:\n",
    "            _sum_of_data = ''\n",
    "            for value in dictionary[key]:\n",
    "                _sum_of_data = _sum_of_data + str(value) + ','\n",
    "            print(key,\"|\", _sum_of_data)\n",
    "    \n",
    "    def _stem_and_leaf_for_46(container):\n",
    "        dictionary = {}\n",
    "        container.sort()\n",
    "        for i in container:\n",
    "            key = i//10\n",
    "            leaf = i%10\n",
    "            if key not in dictionary:\n",
    "                dictionary[key] = []\n",
    "            dictionary[key].append(leaf)\n",
    "        return dictionary\n",
    "    \n",
    "    def _median_for_46(container):\n",
    "        container.sort()\n",
    "        if len(container) % 2 == 1:\n",
    "            return container[int(len(container) / 2)]\n",
    "        return (container[int(len(container) / 2)-1] + container[int(len(container) / 2)]) / 2\n",
    "    \n",
    "    def _mean_for_46(container):\n",
    "        return sum(container) / len(container)\n",
    "    \n",
    "    def _std_for_46(container):\n",
    "        std = 0\n",
    "        for i in container:\n",
    "            std = std + (i - _mean_for_46(i))**2\n",
    "        return (std/(len(container)-1)) ** 0.5\n"
   ],
   "id": "ab37a9b9e59915a5",
   "outputs": [],
   "execution_count": null
  },
  {
   "metadata": {},
   "cell_type": "code",
   "source": [
    "def _47():\n",
    "    sample_space = [118.6, 127.4, 138.4, 130.0, 113.7, 122.0, 108.3, 131.5, 133.2]\n",
    "    def _median_for_47(data):\n",
    "        data.sort()\n",
    "        if len(data) % 2 == 1:\n",
    "            return data[int(len(data) / 2)]\n",
    "        return (data[int(len(data) / 2)-1] + data[int(len(data) / 2)]) / 2"
   ],
   "id": "48c6e54120e92e92",
   "outputs": [],
   "execution_count": null
  },
  {
   "metadata": {
    "ExecuteTime": {
     "end_time": "2025-01-30T07:15:27.562188Z",
     "start_time": "2025-01-30T07:15:27.552590Z"
    }
   },
   "cell_type": "code",
   "source": [
    "def _50():\n",
    "    sample_space = [\n",
    "    'S','S','F','S','S','S','F','F','S'\n",
    "    ]\n",
    "    def _proportion_of_s(array):\n",
    "        return sample_space.count('S') / len(array)\n",
    "    new_data = [1 if i == 'S' else 0 for i in sample_space]\n",
    "    def _mean_for_50(array):\n",
    "        return sum(array) / len(array)"
   ],
   "id": "c50f97fce96479ed",
   "outputs": [],
   "execution_count": 24
  }
 ],
 "metadata": {
  "kernelspec": {
   "display_name": "Python 3",
   "language": "python",
   "name": "python3"
  },
  "language_info": {
   "codemirror_mode": {
    "name": "ipython",
    "version": 2
   },
   "file_extension": ".py",
   "mimetype": "text/x-python",
   "name": "python",
   "nbconvert_exporter": "python",
   "pygments_lexer": "ipython2",
   "version": "2.7.6"
  }
 },
 "nbformat": 4,
 "nbformat_minor": 5
}
